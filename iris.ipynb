{
 "cells": [
  {
   "cell_type": "markdown",
   "metadata": {},
   "source": [
    "# Bài 1"
   ]
  },
  {
   "cell_type": "code",
   "execution_count": 7,
   "metadata": {},
   "outputs": [
    {
     "data": {
      "text/plain": [
       "'Id,SepalLengthCm,SepalWidthCm,PetalLengthCm,PetalWidthCm,Species\\n'"
      ]
     },
     "execution_count": 7,
     "metadata": {},
     "output_type": "execute_result"
    }
   ],
   "source": [
    "file = open('Iris.csv', 'r')\n",
    "danhsach = file.readlines()\n",
    "danhsach.pop(0)"
   ]
  },
  {
   "cell_type": "markdown",
   "metadata": {},
   "source": [
    "##### tạo hàm tính delta"
   ]
  },
  {
   "cell_type": "code",
   "execution_count": 8,
   "metadata": {},
   "outputs": [],
   "source": [
    "def delta (x, y):\n",
    "    delta = abs(x - float(line[1])) + abs(y - float(line[2]))\n",
    "    return delta\n"
   ]
  },
  {
   "cell_type": "markdown",
   "metadata": {},
   "source": [
    "#### Task 1: Là loại của bông hoa có tổng chênh lệch chiều dài + chiều rộng đài hoa là nhỏ nhất\n"
   ]
  },
  {
   "cell_type": "code",
   "execution_count": 9,
   "metadata": {},
   "outputs": [
    {
     "name": "stdout",
     "output_type": "stream",
     "text": [
      "Iris-setosa\n"
     ]
    }
   ],
   "source": [
    "cd = 2.4\n",
    "cr = 3\n",
    "list_test_1 = []\n",
    "for line in danhsach:\n",
    "    line = line.split(',')\n",
    "    list_test_1.append(delta(cd, cr))\n",
    "min_loc = list_test_1.index(min(list_test_1)) + 1\n",
    "if min_loc < 51:\n",
    "    print (f'Iris-setosa')\n",
    "elif min_loc > 100:\n",
    "    print (f'Iris-virginica')\n",
    "else:\n",
    "    print (f'Iris-versicolor')\n",
    "    "
   ]
  },
  {
   "cell_type": "markdown",
   "metadata": {},
   "source": [
    "#### Task 2: Trong 10 bông hoa có kích thước tương đồng với H (tổng chênh lệch chiều dài + chiều rộng đài hoa là nhỏ nhất), loại hoa chiếm tỉ lệ lớn nhất trong 10 bông này.\n"
   ]
  },
  {
   "cell_type": "code",
   "execution_count": 10,
   "metadata": {},
   "outputs": [
    {
     "name": "stdout",
     "output_type": "stream",
     "text": [
      "Iris-setosa chiem nhieu nhat\n"
     ]
    }
   ],
   "source": [
    "cd = 0\n",
    "cr = 1\n",
    "list_test_2 = []\n",
    "list_test_2_1 = []\n",
    "#tạo list có 10 delta sếp tăng dần\n",
    "for line in danhsach:\n",
    "    line = line.split(',')\n",
    "    list_test_2.append(delta(cd, cr))\n",
    "list_test_2_sort = sorted (list_test_2)\n",
    "list_test_2_sort = list_test_2_sort[:10]\n",
    "# tìm vị trí từng phần tử của list_test_2_sort trong list 150 phần tử\n",
    "for i in list_test_2_sort:\n",
    "    loc = list_test_2.index(i)\n",
    "    list_test_2_1.append(loc)\n",
    "# đếm số hoa mỗi loại trong 10 phầm tử đó\n",
    "a = 0\n",
    "b = 0\n",
    "c = 0\n",
    "list_test_2_2 = []\n",
    "for i in list_test_2_1:\n",
    "    if i < 50:\n",
    "        a += 1\n",
    "    elif i > 99:\n",
    "        b += 1\n",
    "    else:\n",
    "        c += 1\n",
    "list_test_2_2.append(a)\n",
    "list_test_2_2.append(b)\n",
    "list_test_2_2.append(c)\n",
    "# tìm ra loại hoa có nhiều số hoa nhất và in ra\n",
    "loc_max = list_test_2_2.index(max(list_test_2_2))\n",
    "if loc_max == 0:\n",
    "    print (f'Iris-setosa chiem nhieu nhat')\n",
    "if loc_max == 1:\n",
    "    print (f'Iris-virginica chiem nhieu nhat')\n",
    "if loc_max == 2:\n",
    "    print (f'Iris-versicolor chiem nhieu nhat')\n",
    "\n",
    "    "
   ]
  },
  {
   "cell_type": "markdown",
   "metadata": {},
   "source": [
    "#### Task 3: Là loại mà trung bình cộng về chênh lệch chiều dài của đài hoa của tất cả các bông hoa trong loại đó với H là nhỏ nhất\n"
   ]
  }
 ],
 "metadata": {
  "interpreter": {
   "hash": "bfb4883d108fc92ac768439090a2e92bb9a1f760a54beeecfd6762b5dcd70fe3"
  },
  "kernelspec": {
   "display_name": "Python 3.10.2 64-bit",
   "language": "python",
   "name": "python3"
  },
  "language_info": {
   "codemirror_mode": {
    "name": "ipython",
    "version": 3
   },
   "file_extension": ".py",
   "mimetype": "text/x-python",
   "name": "python",
   "nbconvert_exporter": "python",
   "pygments_lexer": "ipython3",
   "version": "3.10.2"
  },
  "orig_nbformat": 4
 },
 "nbformat": 4,
 "nbformat_minor": 2
}
